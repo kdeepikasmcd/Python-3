{
 "cells": [
  {
   "cell_type": "code",
   "execution_count": 2,
   "metadata": {},
   "outputs": [
    {
     "name": "stdout",
     "output_type": "stream",
     "text": [
      "   S No Name  Age  Salary Gender   Dept\n",
      "0     1  abc   25    1200      m    cse\n",
      "1     2  def   34    1500      f    ece\n",
      "2     3  pqr   25   10000      m    eee\n",
      "3     4  mno   56   24500      f  civil\n",
      "4     5  xyz   37    7400      m    cse\n",
      "5     6  jkl   28   23000      f   ecce\n",
      "6     7  tuv   36    1200      m   mech\n",
      "7     8  qwe   12   35000      f    cse\n"
     ]
    }
   ],
   "source": [
    "import pandas as pd\n",
    "df=pd.read_csv(\"C:/Users/DEEPIKA/Documents/dsp/dsp programs/grouping.csv\")\n",
    "print(df)"
   ]
  },
  {
   "cell_type": "code",
   "execution_count": 3,
   "metadata": {},
   "outputs": [
    {
     "name": "stdout",
     "output_type": "stream",
     "text": [
      "<pandas.core.groupby.generic.DataFrameGroupBy object at 0x00000248D70628C8>\n"
     ]
    }
   ],
   "source": [
    "print(df.groupby([\"Gender\"]))"
   ]
  },
  {
   "cell_type": "code",
   "execution_count": 5,
   "metadata": {},
   "outputs": [
    {
     "name": "stdout",
     "output_type": "stream",
     "text": [
      "<pandas.core.groupby.generic.DataFrameGroupBy object at 0x00000248D7300B08>\n"
     ]
    }
   ],
   "source": [
    "print(df.groupby([\"Gender\",\"Dept\"]))"
   ]
  },
  {
   "cell_type": "code",
   "execution_count": 7,
   "metadata": {},
   "outputs": [
    {
     "name": "stdout",
     "output_type": "stream",
     "text": [
      "{'f': Int64Index([1, 3, 5, 7], dtype='int64'), 'm': Int64Index([0, 2, 4, 6], dtype='int64')}\n"
     ]
    }
   ],
   "source": [
    "a=df.groupby([\"Gender\"])\n",
    "print(a.groups)"
   ]
  },
  {
   "cell_type": "code",
   "execution_count": 8,
   "metadata": {},
   "outputs": [
    {
     "name": "stdout",
     "output_type": "stream",
     "text": [
      "{('f', 'civil'): Int64Index([3], dtype='int64'), ('f', 'cse'): Int64Index([7], dtype='int64'), ('f', 'ecce'): Int64Index([5], dtype='int64'), ('f', 'ece'): Int64Index([1], dtype='int64'), ('m', 'cse'): Int64Index([0, 4], dtype='int64'), ('m', 'eee'): Int64Index([2], dtype='int64'), ('m', 'mech'): Int64Index([6], dtype='int64')}\n"
     ]
    }
   ],
   "source": [
    "a=df.groupby([\"Gender\",\"Dept\"])\n",
    "print(a.groups)"
   ]
  },
  {
   "cell_type": "code",
   "execution_count": 10,
   "metadata": {},
   "outputs": [
    {
     "name": "stdout",
     "output_type": "stream",
     "text": [
      "        S No Name  Age Gender   Dept\n",
      "Salary                              \n",
      "1200       7  tuv   36      m   mech\n",
      "1500       2  def   34      f    ece\n",
      "7400       5  xyz   37      m    cse\n",
      "10000      3  pqr   25      m    eee\n",
      "23000      6  jkl   28      f   ecce\n",
      "24500      4  mno   56      f  civil\n",
      "35000      8  qwe   12      f    cse\n"
     ]
    }
   ],
   "source": [
    "print(df.groupby([\"Salary\"]).max())"
   ]
  },
  {
   "cell_type": "code",
   "execution_count": 11,
   "metadata": {},
   "outputs": [
    {
     "name": "stdout",
     "output_type": "stream",
     "text": [
      "     S No  Salary\n",
      "Age              \n",
      "12      8   35000\n",
      "25      4   11200\n",
      "28      6   23000\n",
      "34      2    1500\n",
      "36      7    1200\n",
      "37      5    7400\n",
      "56      4   24500\n"
     ]
    }
   ],
   "source": [
    "print(df.groupby(\"Age\").sum())"
   ]
  },
  {
   "cell_type": "code",
   "execution_count": 12,
   "metadata": {},
   "outputs": [
    {
     "name": "stdout",
     "output_type": "stream",
     "text": [
      "{'abc': Int64Index([0], dtype='int64'), 'def': Int64Index([1], dtype='int64'), 'jkl': Int64Index([5], dtype='int64'), 'mno': Int64Index([3], dtype='int64'), 'pqr': Int64Index([2], dtype='int64'), 'qwe': Int64Index([7], dtype='int64'), 'tuv': Int64Index([6], dtype='int64'), 'xyz': Int64Index([4], dtype='int64')}\n"
     ]
    }
   ],
   "source": [
    "print(df.groupby(\"Name\").groups)"
   ]
  },
  {
   "cell_type": "code",
   "execution_count": 13,
   "metadata": {},
   "outputs": [
    {
     "name": "stdout",
     "output_type": "stream",
     "text": [
      "   S No Name  Age  Salary Gender  Dept\n",
      "0     1  abc   25    1200      m   cse\n",
      "2     3  pqr   25   10000      m   eee\n",
      "4     5  xyz   37    7400      m   cse\n",
      "6     7  tuv   36    1200      m  mech\n"
     ]
    }
   ],
   "source": [
    "g=df.groupby(\"Gender\")\n",
    "print(g.get_group(\"m\"))"
   ]
  },
  {
   "cell_type": "code",
   "execution_count": 14,
   "metadata": {},
   "outputs": [
    {
     "name": "stdout",
     "output_type": "stream",
     "text": [
      "   S No Name  Age  Salary Gender Dept\n",
      "0     1  abc   25    1200      m  cse\n",
      "4     5  xyz   37    7400      m  cse\n",
      "7     8  qwe   12   35000      f  cse\n"
     ]
    }
   ],
   "source": [
    "g=df.groupby(\"Dept\")\n",
    "print(g.get_group(\"cse\"))"
   ]
  },
  {
   "cell_type": "code",
   "execution_count": 15,
   "metadata": {},
   "outputs": [
    {
     "data": {
      "text/plain": [
       "f    4\n",
       "m    4\n",
       "Name: Gender, dtype: int64"
      ]
     },
     "execution_count": 15,
     "metadata": {},
     "output_type": "execute_result"
    }
   ],
   "source": [
    "df[\"Gender\"].value_counts()"
   ]
  },
  {
   "cell_type": "code",
   "execution_count": null,
   "metadata": {},
   "outputs": [],
   "source": []
  }
 ],
 "metadata": {
  "kernelspec": {
   "display_name": "Python 3",
   "language": "python",
   "name": "python3"
  },
  "language_info": {
   "codemirror_mode": {
    "name": "ipython",
    "version": 3
   },
   "file_extension": ".py",
   "mimetype": "text/x-python",
   "name": "python",
   "nbconvert_exporter": "python",
   "pygments_lexer": "ipython3",
   "version": "3.7.6"
  }
 },
 "nbformat": 4,
 "nbformat_minor": 4
}
