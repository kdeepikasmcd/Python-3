{
 "cells": [
  {
   "cell_type": "code",
   "execution_count": 7,
   "metadata": {},
   "outputs": [
    {
     "name": "stdout",
     "output_type": "stream",
     "text": [
      "3.4\n",
      "3.4400000000000004\n",
      "1.854723699099141\n"
     ]
    }
   ],
   "source": [
    "import numpy as np\n",
    "a=np.array([1,3,2,5,6])\n",
    "print(a.mean())\n",
    "print(a.var())\n",
    "print(a.std())"
   ]
  },
  {
   "cell_type": "code",
   "execution_count": 18,
   "metadata": {},
   "outputs": [
    {
     "data": {
      "text/plain": [
       "count    5.000000\n",
       "mean     3.000000\n",
       "std      1.581139\n",
       "min      1.000000\n",
       "25%      2.000000\n",
       "50%      3.000000\n",
       "75%      4.000000\n",
       "max      5.000000\n",
       "dtype: float64"
      ]
     },
     "execution_count": 18,
     "metadata": {},
     "output_type": "execute_result"
    }
   ],
   "source": [
    "import pandas as pd\n",
    "p1=pd.Series([1,2,3,4,5])\n",
    "p1.describe()"
   ]
  },
  {
   "cell_type": "code",
   "execution_count": 23,
   "metadata": {},
   "outputs": [
    {
     "name": "stdout",
     "output_type": "stream",
     "text": [
      "3.0 3.0 0    1\n",
      "1    2\n",
      "2    3\n",
      "3    4\n",
      "4    5\n",
      "dtype: int64 2.5 1.5811388300841898\n"
     ]
    }
   ],
   "source": [
    "print(p1.mean())\n",
    "print(p1.median())\n",
    "print(p1.mode())\n",
    "print(p1.var())\n",
    "print(p1.std())"
   ]
  },
  {
   "cell_type": "code",
   "execution_count": 10,
   "metadata": {},
   "outputs": [
    {
     "name": "stdout",
     "output_type": "stream",
     "text": [
      "10.0\n",
      "10.0\n",
      "0     0\n",
      "1     5\n",
      "2    10\n",
      "3    15\n",
      "4    20\n",
      "dtype: int64\n",
      "62.5\n",
      "7.905694150420948\n"
     ]
    }
   ],
   "source": [
    "p2=pd.Series([0,5,10,15,20])\n",
    "print(p2.mean())\n",
    "print(p2.median())\n",
    "print(p2.mode())\n",
    "print(p2.var())\n",
    "print(p2.std())"
   ]
  },
  {
   "cell_type": "code",
   "execution_count": 11,
   "metadata": {},
   "outputs": [
    {
     "name": "stdout",
     "output_type": "stream",
     "text": [
      "30.0\n",
      "30.0\n",
      "0    10\n",
      "1    20\n",
      "2    30\n",
      "3    40\n",
      "4    50\n",
      "dtype: int64\n",
      "250.0\n",
      "15.811388300841896\n"
     ]
    }
   ],
   "source": [
    "p3=pd.Series([10,20,30,40,50])\n",
    "print(p3.mean())\n",
    "print(p3.median())\n",
    "print(p3.mode())\n",
    "print(p3.var())\n",
    "print(p3.std())"
   ]
  },
  {
   "cell_type": "code",
   "execution_count": 12,
   "metadata": {},
   "outputs": [
    {
     "name": "stdout",
     "output_type": "stream",
     "text": [
      "4444.4\n",
      "200.0\n",
      "0        2\n",
      "1       20\n",
      "2      200\n",
      "3     2000\n",
      "4    20000\n",
      "dtype: int64\n",
      "76319236.8\n",
      "8736.088186368084\n"
     ]
    }
   ],
   "source": [
    "p4=pd.Series([2,20,200,2000,20000])\n",
    "print(p4.mean())\n",
    "print(p4.median())\n",
    "print(p4.mode())\n",
    "print(p4.var())\n",
    "print(p4.std())"
   ]
  },
  {
   "cell_type": "code",
   "execution_count": 14,
   "metadata": {},
   "outputs": [
    {
     "name": "stdout",
     "output_type": "stream",
     "text": [
      "5.0\n",
      "5.0\n",
      "0    1\n",
      "1    3\n",
      "2    5\n",
      "3    7\n",
      "4    9\n",
      "dtype: int64\n",
      "10.0\n",
      "3.1622776601683795\n"
     ]
    }
   ],
   "source": [
    "p5=pd.Series([1,3,5,7,9])\n",
    "print(p5.mean())\n",
    "print(p5.median())\n",
    "print(p5.mode())\n",
    "print(p5.var())\n",
    "print(p5.std())"
   ]
  },
  {
   "cell_type": "code",
   "execution_count": 15,
   "metadata": {},
   "outputs": [
    {
     "name": "stdout",
     "output_type": "stream",
     "text": [
      "7.4\n",
      "5.0\n",
      "0     1\n",
      "1     2\n",
      "2     5\n",
      "3     9\n",
      "4    20\n",
      "dtype: int64\n",
      "59.300000000000004\n",
      "7.700649323271382\n"
     ]
    }
   ],
   "source": [
    "p6=pd.Series([1,5,9,2,20])\n",
    "print(p6.mean())\n",
    "print(p6.median())\n",
    "print(p6.mode())\n",
    "print(p6.var())\n",
    "print(p6.std())"
   ]
  },
  {
   "cell_type": "code",
   "execution_count": 17,
   "metadata": {},
   "outputs": [
    {
     "name": "stdout",
     "output_type": "stream",
     "text": [
      "21.4\n",
      "5.0\n",
      "0     1\n",
      "1     2\n",
      "2     5\n",
      "3     9\n",
      "4    90\n",
      "dtype: int64\n",
      "1480.2999999999997\n",
      "38.474666990111814\n"
     ]
    }
   ],
   "source": [
    "p7=pd.Series([1,5,9,2,90])\n",
    "print(p7.mean())\n",
    "print(p7.median())\n",
    "print(p7.mode())\n",
    "print(p7.var())\n",
    "print(p7.std())"
   ]
  },
  {
   "cell_type": "code",
   "execution_count": 25,
   "metadata": {},
   "outputs": [
    {
     "data": {
      "image/png": "[encoded data removed]",
      "text/plain": [
       "<Figure size 432x288 with 1 Axes>"
      ]
     },
     "metadata": {
      "needs_background": "light"
     },
     "output_type": "display_data"
    }
   ],
   "source": [
    "import matplotlib.pyplot as plt\n",
    "import pandas as pd\n",
    "p1=pd.Series([1,2,3,4])\n",
    "a=p1.mean()\n",
    "b=p1.median()\n",
    "d=p1.var()\n",
    "e=p1.std()\n",
    "y=[a,b,d,e]\n",
    "plt.bar(p1,y,linewidth=3)\n",
    "plt.show()"
   ]
  },
  {
   "cell_type": "code",
   "execution_count": 30,
   "metadata": {},
   "outputs": [
    {
     "data": {
      "image/png": "[encoded data removed]",
      "text/plain": [
       "<Figure size 432x288 with 1 Axes>"
      ]
     },
     "metadata": {
      "needs_background": "light"
     },
     "output_type": "display_data"
    }
   ],
   "source": [
    "x=['p1','p2','p3','p5','p6','p7']\n",
    "a=p1.mean()\n",
    "b=p2.mean()\n",
    "c=p3.mean()\n",
    "#d=p4.mean()\n",
    "e=p5.mean()\n",
    "f=p6.mean()\n",
    "g=p7.mean()\n",
    "y=[a,b,c,e,f,g]\n",
    "plt.bar(x,y,color='hotpink')\n",
    "plt.show()"
   ]
  },
  {
   "cell_type": "code",
   "execution_count": 31,
   "metadata": {},
   "outputs": [
    {
     "data": {
      "image/png": "[encoded data removed]",
      "text/plain": [
       "<Figure size 432x288 with 1 Axes>"
      ]
     },
     "metadata": {
      "needs_background": "light"
     },
     "output_type": "display_data"
    }
   ],
   "source": [
    "x=['p1','p2','p3','p5','p6','p7']\n",
    "a=p1.var()\n",
    "b=p2.var()\n",
    "c=p3.var()\n",
    "#d=p4.mean()\n",
    "e=p5.var()\n",
    "f=p6.var()\n",
    "g=p7.var()\n",
    "y=[a,b,c,e,f,g]\n",
    "plt.bar(x,y,color='green')\n",
    "plt.show()"
   ]
  },
  {
   "cell_type": "code",
   "execution_count": 38,
   "metadata": {},
   "outputs": [
    {
     "data": {
      "image/png": "[encoded data removed]",
      "text/plain": [
       "<Figure size 432x288 with 1 Axes>"
      ]
     },
     "metadata": {
      "needs_background": "light"
     },
     "output_type": "display_data"
    }
   ],
   "source": [
    "x=['p1','p2','p3','p5','p6','p7']\n",
    "a=p1.median()\n",
    "b=p2.median()\n",
    "c=p3.median()\n",
    "#d=p4.mean()\n",
    "e=p5.median()\n",
    "f=p6.median()\n",
    "g=p7.median()\n",
    "y=[a,b,c,e,f,g]\n",
    "plt.bar(x,y,color='brown')\n",
    "plt.show()"
   ]
  },
  {
   "cell_type": "code",
   "execution_count": 35,
   "metadata": {},
   "outputs": [
    {
     "data": {
      "image/png": "[encoded data removed]",
      "text/plain": [
       "<Figure size 432x288 with 1 Axes>"
      ]
     },
     "metadata": {
      "needs_background": "light"
     },
     "output_type": "display_data"
    }
   ],
   "source": [
    "x=['p1','p2','p3','p5','p6','p7']\n",
    "a=p1.std()\n",
    "b=p2.std()\n",
    "c=p3.std()\n",
    "#d=p4.mean()\n",
    "e=p5.std()\n",
    "f=p6.std()\n",
    "g=p7.std()\n",
    "y=[a,b,c,e,f,g]\n",
    "plt.bar(x,y,color='black',width=0.5)\n",
    "plt.show()"
   ]
  },
  {
   "cell_type": "code",
   "execution_count": null,
   "metadata": {},
   "outputs": [],
   "source": []
  }
 ],
 "metadata": {
  "kernelspec": {
   "display_name": "Python 3",
   "language": "python",
   "name": "python3"
  },
  "language_info": {
   "codemirror_mode": {
    "name": "ipython",
    "version": 3
   },
   "file_extension": ".py",
   "mimetype": "text/x-python",
   "name": "python",
   "nbconvert_exporter": "python",
   "pygments_lexer": "ipython3",
   "version": "3.7.6"
  }
 },
 "nbformat": 4,
 "nbformat_minor": 4
}
